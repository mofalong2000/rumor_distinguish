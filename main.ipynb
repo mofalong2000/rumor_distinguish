{
 "cells": [
  {
   "cell_type": "markdown",
   "metadata": {},
   "source": [
    "请点击[此处](https://ai.baidu.com/docs#/AIStudio_Project_Notebook/a38e5576)查看本环境基本用法.  <br>\n",
    "Please click [here ](https://ai.baidu.com/docs#/AIStudio_Project_Notebook/a38e5576) for more detailed instructions. "
   ]
  },
  {
   "cell_type": "markdown",
   "metadata": {},
   "source": [
    "## 一、项目背景介绍"
   ]
  },
  {
   "cell_type": "markdown",
   "metadata": {},
   "source": [
    "随着移动互联网行业的快速发展，网络空间越来越成为人们生活中不可分割的一部分。每一天，都有数以亿计的用户访问各类新闻网页并留下评论，或是通过各种社交媒体发表自己对时事的观点和见解。尽管网友的言论大多都是友善和客观的，但其中也夹杂着许多无意间传播的不实言论，甚至是极少数不法分子刻意编织的谣言。这些虚假或恶意的内容如果不加以清理，就可能对不明真相的人们产生误导，从而带来众多不良影响。由于人力资源是有限且宝贵的，利用合适的算法对海量的信息进行初步筛选和甄别就显得十分重要。"
   ]
  },
  {
   "cell_type": "markdown",
   "metadata": {},
   "source": [
    "## 二、数据介绍"
   ]
  },
  {
   "cell_type": "markdown",
   "metadata": {},
   "source": [
    "**数据集介绍：** \n",
    "\n",
    "**数据来源：** 中文谣言新闻数据集 https://github.com/thunlp/Chinese_Rumor_Dataset\n",
    "\n",
    "**归类领域：** 数据以文本信息为主，可用于文本分类等问题的研究。\n",
    "\n",
    "**数据类型及样本信息：**\n",
    "\n",
    "数据集一：data/rumors_v170613.json文件数据为从2009年9月4日至2017年6月12日的31669条谣言，数据格式如下。\n",
    "\n",
    "rumorCode: 该条谣言的唯一编码，可以通过该编码直接访问该谣言举报页面。\n",
    "\n",
    "title: 该条谣言被举报的标题内容\n",
    "\n",
    "informerName: 举报者微博名称\n",
    "\n",
    "informerUrl: 举报者微博链接\n",
    "\n",
    "rumormongerName: 发布谣言者的微博名称\n",
    "\n",
    "rumormongerUr: 发布谣言者的微博链接\n",
    "\n",
    "rumorText: 谣言内容\n",
    "\n",
    "visitTimes: 该谣言被访问次数\n",
    "\n",
    "result: 该谣言审查结果\n",
    "\n",
    "publishTime: 该谣言被举报时间\n",
    "\n",
    "数据集二：CED_Dataset文件夹中数据为与微博原文相关的转发与评论信息，共包含谣言1538条和非谣言1849条，其中所有微博原文（包含谣言与非\n",
    "谣言）在original-microblog文件夹中，剩余两个文件夹non-rumor-repost和rumor-repost分别包含非谣言原文与谣言原文的对应的转发与\n",
    "评论信息，数据文件均为json格式。\n",
    "\n",
    "微博原文信息：\n",
    "\n",
    "text: 微博原文的文字内容\n",
    "\n",
    "user: 发布该条微博原文的用户信息\n",
    "\n",
    "time: 用户发布该条微博原文的时间（时间戳格式）\n",
    "\n",
    "转发/评论信息：\n",
    "\n",
    "uid: 发布该转发/评论的用户ID\n",
    "\n",
    "text: 转发/评论的文字内容（若部分用户转发时不添加评论内容，该项无内容）\n",
    "\n",
    "data: 该转发/评论的发布时间（格式如：2014-07-24 14:37:38）\n",
    "\n",
    "\n",
    "本项目中训练阶段主要使用的数据集为数据集二。测试利用数据集一的样本完成"
   ]
  },
  {
   "cell_type": "code",
   "execution_count": 31,
   "metadata": {
    "execution": {
     "iopub.execute_input": "2022-03-06T16:26:17.338806Z",
     "iopub.status.busy": "2022-03-06T16:26:17.337953Z",
     "iopub.status.idle": "2022-03-06T16:26:51.655518Z",
     "shell.execute_reply": "2022-03-06T16:26:51.654543Z",
     "shell.execute_reply.started": "2022-03-06T16:26:17.338771Z"
    },
    "scrolled": true
   },
   "outputs": [
    {
     "name": "stdout",
     "output_type": "stream",
     "text": [
      "Archive:  /home/aistudio/data/data20519/Rumor_Dataset.zip\n",
      "replace work/Rumor_Dataset-master/Chinese_Rumor_Dataset-master/rumors_v170613.json? [y]es, [n]o, [A]ll, [N]one, [r]ename: ^C\n",
      "work/Rumor_Dataset-master\n",
      "├── Chinese_Rumor_Dataset-master\n",
      "│   └── CED_Dataset\n",
      "│       ├── non-rumor-repost\n",
      "│       ├── original-microblog\n",
      "│       └── rumor-repost\n",
      "└── __MACOSX\n",
      "    └── Chinese_Rumor_Dataset-master\n",
      "        └── CED_Dataset\n",
      "            ├── non-rumor-repost\n",
      "            ├── original-microblog\n",
      "            └── rumor-repost\n",
      "\n",
      "11 directories\n"
     ]
    }
   ],
   "source": [
    "# 解压你所挂载的数据集在同级目录下\n",
    "!unzip /home/aistudio/data/data20519/Rumor_Dataset.zip -d work/Rumor_Dataset-master\n",
    "\n",
    "# 查看数据集的目录结构\n",
    "! tree work/Rumor_Dataset-master -dhh"
   ]
  },
  {
   "cell_type": "code",
   "execution_count": 3,
   "metadata": {
    "execution": {
     "iopub.execute_input": "2022-02-27T14:34:08.095679Z",
     "iopub.status.busy": "2022-02-27T14:34:08.094718Z",
     "iopub.status.idle": "2022-02-27T14:34:08.314493Z",
     "shell.execute_reply": "2022-02-27T14:34:08.313612Z",
     "shell.execute_reply.started": "2022-02-27T14:34:08.095646Z"
    },
    "scrolled": true
   },
   "outputs": [
    {
     "name": "stdout",
     "output_type": "stream",
     "text": [
      "3388\n"
     ]
    }
   ],
   "source": [
    "! find ./work/Rumor_Dataset-master/Chinese_Rumor_Dataset-master/CED_Dataset/original-microblog/ -type f -print | wc -l "
   ]
  },
  {
   "cell_type": "code",
   "execution_count": 1,
   "metadata": {
    "execution": {
     "iopub.execute_input": "2022-03-06T15:29:21.848615Z",
     "iopub.status.busy": "2022-03-06T15:29:21.847873Z",
     "iopub.status.idle": "2022-03-06T15:29:23.125269Z",
     "shell.execute_reply": "2022-03-06T15:29:23.124591Z",
     "shell.execute_reply.started": "2022-03-06T15:29:21.848583Z"
    },
    "scrolled": true
   },
   "outputs": [
    {
     "name": "stdout",
     "output_type": "stream",
     "text": [
      "3387\n"
     ]
    }
   ],
   "source": [
    "import json\n",
    "import zipfile\n",
    "import os\n",
    "import random\n",
    "\n",
    "work_path = '/home/aistudio/work/'\n",
    "target_path = '/home/aistudio/work/Rumor_Dataset-master/'\n",
    "target_folder = \"/Chinese_Rumor_Dataset-master/CED_Dataset/original-microblog/\"\n",
    "original_microblog_dic = os.listdir(target_path + target_folder)\n",
    "\n",
    "# 谣言标签设置为1，非谣言标签设置为0\n",
    "non_rumor_label=\"0\"\n",
    "rumor_label=\"1\"\n",
    "\n",
    "all_samples_list = []\n",
    "\n",
    "for original_file in original_microblog_dic:\n",
    "    if (original_file != '.DS_Store'):\n",
    "        file_num = int(original_file.split('_')[0])\n",
    "        with open(target_path + target_folder + original_file, 'r', encoding=\"utf-8\") as f:\n",
    "            original_content = f.read()\n",
    "        original_dict = json.loads(original_content)\n",
    "        if file_num <= 2600:\n",
    "            label = rumor_label\n",
    "        else:\n",
    "            label = non_rumor_label\n",
    "        all_samples_list.append(label+\"\\t\"+original_dict[\"text\"]+\"\\n\")\n",
    "\n",
    "print(len(all_samples_list))"
   ]
  },
  {
   "cell_type": "code",
   "execution_count": 2,
   "metadata": {
    "execution": {
     "iopub.execute_input": "2022-03-06T15:29:27.600999Z",
     "iopub.status.busy": "2022-03-06T15:29:27.600503Z",
     "iopub.status.idle": "2022-03-06T15:29:27.613075Z",
     "shell.execute_reply": "2022-03-06T15:29:27.612498Z",
     "shell.execute_reply.started": "2022-03-06T15:29:27.600963Z"
    },
    "scrolled": true
   },
   "outputs": [],
   "source": [
    "# 数据乱序后写入text文件\n",
    "\n",
    "data_txt_path=\"/home/aistudio/work/all_data.txt\"\n",
    "\n",
    "random.shuffle(all_samples_list)\n",
    "\n",
    "with open(data_txt_path, 'w') as f:\n",
    "    f.seek(0)\n",
    "    f.truncate() \n",
    "    \n",
    "with open(data_txt_path, 'a') as f:\n",
    "    for data in all_samples_list:\n",
    "        f.write(data) "
   ]
  },
  {
   "cell_type": "code",
   "execution_count": 3,
   "metadata": {
    "execution": {
     "iopub.execute_input": "2022-03-06T15:29:30.104620Z",
     "iopub.status.busy": "2022-03-06T15:29:30.103529Z",
     "iopub.status.idle": "2022-03-06T15:29:31.722321Z",
     "shell.execute_reply": "2022-03-06T15:29:31.721690Z",
     "shell.execute_reply.started": "2022-03-06T15:29:30.104565Z"
    },
    "scrolled": true
   },
   "outputs": [
    {
     "name": "stderr",
     "output_type": "stream",
     "text": [
      "/opt/conda/envs/python35-paddle120-env/lib/python3.7/site-packages/matplotlib/__init__.py:107: DeprecationWarning: Using or importing the ABCs from 'collections' instead of from 'collections.abc' is deprecated, and in 3.8 it will stop working\n",
      "  from collections import MutableMapping\n",
      "/opt/conda/envs/python35-paddle120-env/lib/python3.7/site-packages/matplotlib/rcsetup.py:20: DeprecationWarning: Using or importing the ABCs from 'collections' instead of from 'collections.abc' is deprecated, and in 3.8 it will stop working\n",
      "  from collections import Iterable, Mapping\n",
      "/opt/conda/envs/python35-paddle120-env/lib/python3.7/site-packages/matplotlib/colors.py:53: DeprecationWarning: Using or importing the ABCs from 'collections' instead of from 'collections.abc' is deprecated, and in 3.8 it will stop working\n",
      "  from collections import Sized\n"
     ]
    }
   ],
   "source": [
    "# 导入必要的包\n",
    "import os\n",
    "from multiprocessing import cpu_count\n",
    "import numpy as np\n",
    "import shutil\n",
    "import paddle\n",
    "import paddle.fluid as fluid\n",
    "from PIL import Image\n",
    "import matplotlib.pyplot as plt\n",
    "import math\n",
    "\n",
    "# 生成数据字典（按单个字符划分）\n",
    "def create_dict(data_path, dict_path):\n",
    "\n",
    "    # 先清空用于保存字典的txt文件\n",
    "    with open(dict_path, 'w') as f:\n",
    "        f.seek(0)\n",
    "        f.truncate() \n",
    "\n",
    "    dict_set = set()\n",
    "    # 读取全部数据\n",
    "    with open(data_path, 'r', encoding='utf-8') as f:\n",
    "        lines = f.readlines()\n",
    "    # 把数据生成一个元组\n",
    "    for line in lines:\n",
    "        content = line.split('\\t')[-1].replace('\\n', '')\n",
    "        for s in content:\n",
    "            dict_set.add(s)\n",
    "    # 把元组转换成字典，一个字对应一个数字\n",
    "    dict_list = []\n",
    "    i = 0\n",
    "    for s in dict_set:\n",
    "        dict_list.append([s, i])\n",
    "        i += 1\n",
    "    # 添加未知字符\n",
    "    dict_txt = dict(dict_list)\n",
    "    end_dict = {\"<unk>\": i}\n",
    "    dict_txt.update(end_dict)\n",
    "    # 把这些字典保存到本地中\n",
    "    with open(dict_path, 'w', encoding='utf-8') as f:\n",
    "        f.write(str(dict_txt))\n",
    "    print(\"数据字典生成完成！\")\n",
    "\n",
    "    # 获取字典的长度\n",
    "def get_dict_len(dict_path):\n",
    "    with open(dict_path, 'r', encoding='utf-8') as f:\n",
    "        line = eval(f.readlines()[0])\n",
    "    return len(line.keys())\n",
    "\n",
    "    "
   ]
  },
  {
   "cell_type": "code",
   "execution_count": 4,
   "metadata": {
    "execution": {
     "iopub.execute_input": "2022-03-06T15:29:44.463940Z",
     "iopub.status.busy": "2022-03-06T15:29:44.463311Z",
     "iopub.status.idle": "2022-03-06T15:29:44.472835Z",
     "shell.execute_reply": "2022-03-06T15:29:44.472121Z",
     "shell.execute_reply.started": "2022-03-06T15:29:44.463907Z"
    },
    "scrolled": true
   },
   "outputs": [],
   "source": [
    "# 创建序列化表示的数据,并按照一定比例划分训练数据与验证数据\n",
    "def create_data_list(data_list_path, eval_index):\n",
    "\n",
    "    with open(os.path.join(data_list_path, 'train_list.txt'), 'w', encoding='utf-8') as f_train:\n",
    "        f_train.seek(0)\n",
    "        f_train.truncate()    # 将train.txt文件清空，下同\n",
    "\n",
    "    with open(os.path.join(data_list_path, 'eval_list.txt'), 'w', encoding='utf-8') as f_eval:\n",
    "        f_eval.seek(0)\n",
    "        f_eval.truncate()   \n",
    "        \n",
    "    with open(os.path.join(data_list_path, 'dict.txt'), 'r', encoding='utf-8') as f_data:\n",
    "        dict_txt = eval(f_data.readlines()[0])       # 将数据字典全部读出\n",
    "\n",
    "    with open(os.path.join(data_list_path, 'all_data.txt'), 'r', encoding='utf-8') as f_data:\n",
    "        lines = f_data.readlines()     # 全部文本以列表形式给出\n",
    "  \n",
    "    i = 0\n",
    "    with open(os.path.join(data_list_path, 'eval_list.txt'), 'a', encoding='utf-8') as f_eval,open(os.path.join(data_list_path, 'train_list.txt'), 'a', encoding='utf-8') as f_train:\n",
    "        for line in lines:\n",
    "            words = line.split('\\t')[-1].replace('\\n', '')\n",
    "            label = line.split('\\t')[0]\n",
    "            labs = \"\"\n",
    "            for s in words:\n",
    "                lab = str(dict_txt[s])\n",
    "                labs = labs + lab + ','   # 用','将字符分开\n",
    "            labs = labs[:-1]       # 去掉最后一个','\n",
    "            labs = labs + '\\t' + label + '\\n'\n",
    "            if i <= eval_index:\n",
    "                f_train.write(labs)\n",
    "            else:\n",
    "                f_eval.write(labs)\n",
    "            i += 1\n",
    "        \n",
    "    print(\"训练集与测试集划分完成！\")"
   ]
  },
  {
   "cell_type": "code",
   "execution_count": 5,
   "metadata": {
    "execution": {
     "iopub.execute_input": "2022-03-06T15:29:48.210931Z",
     "iopub.status.busy": "2022-03-06T15:29:48.210495Z",
     "iopub.status.idle": "2022-03-06T15:29:48.434361Z",
     "shell.execute_reply": "2022-03-06T15:29:48.433655Z",
     "shell.execute_reply.started": "2022-03-06T15:29:48.210898Z"
    },
    "scrolled": true
   },
   "outputs": [
    {
     "name": "stdout",
     "output_type": "stream",
     "text": [
      "数据字典生成完成！\n",
      "训练集与测试集划分完成！\n"
     ]
    }
   ],
   "source": [
    "dict_path = work_path + \"dict.txt\"\n",
    "eval_index = math.ceil(len(all_samples_list) * 0.8)\n",
    "\n",
    "create_dict(data_txt_path, dict_path)\n",
    "\n",
    "create_data_list(work_path, eval_index)"
   ]
  },
  {
   "cell_type": "code",
   "execution_count": 6,
   "metadata": {
    "execution": {
     "iopub.execute_input": "2022-03-06T15:29:52.155215Z",
     "iopub.status.busy": "2022-03-06T15:29:52.154793Z",
     "iopub.status.idle": "2022-03-06T15:29:52.162042Z",
     "shell.execute_reply": "2022-03-06T15:29:52.161505Z",
     "shell.execute_reply.started": "2022-03-06T15:29:52.155182Z"
    },
    "scrolled": true
   },
   "outputs": [],
   "source": [
    "# 定义数据映射模块\n",
    "def data_mapper(sample):\n",
    "    data, label = sample\n",
    "    data = [int(data) for data in data.split(',')]\n",
    "    return data, int(label)\n",
    "\n",
    "#定义数据读取器（利用 paddle.reader.xmap_readers进行多线程读取）\n",
    "def data_reader(data_path):\n",
    "    def reader():\n",
    "        with open(data_path, 'r') as f:\n",
    "            lines = f.readlines()\n",
    "            for line in lines:\n",
    "                data, label = line.split('\\t')\n",
    "                yield data, label\n",
    "    return paddle.reader.xmap_readers(data_mapper, reader, cpu_count(), 1024)\n",
    "\n",
    "# 获取训练数据读取器和测试数据读取器\n",
    "BATCH_SIZE = 128\n",
    "\n",
    "train_list_path = work_path+'train_list.txt'\n",
    "eval_list_path = work_path+'eval_list.txt'\n",
    "\n",
    "train_reader = paddle.batch(\n",
    "\t\treader=data_reader(train_list_path), \n",
    "\t\tbatch_size=BATCH_SIZE)\n",
    "eval_reader = paddle.batch(\n",
    "\t\treader=data_reader(eval_list_path), \n",
    "\t\tbatch_size=BATCH_SIZE)"
   ]
  },
  {
   "cell_type": "markdown",
   "metadata": {},
   "source": [
    "## 三、模型介绍"
   ]
  },
  {
   "cell_type": "markdown",
   "metadata": {},
   "source": [
    "借助PaddleNLP模块中的LSTM接口搭建了一个循环神经网络模型。"
   ]
  },
  {
   "cell_type": "code",
   "execution_count": 7,
   "metadata": {
    "execution": {
     "iopub.execute_input": "2022-03-06T15:29:55.933405Z",
     "iopub.status.busy": "2022-03-06T15:29:55.932633Z",
     "iopub.status.idle": "2022-03-06T15:29:55.938619Z",
     "shell.execute_reply": "2022-03-06T15:29:55.938123Z",
     "shell.execute_reply.started": "2022-03-06T15:29:55.933372Z"
    },
    "scrolled": true
   },
   "outputs": [],
   "source": [
    "# 定义长短期记忆网络\n",
    "\n",
    "def lstm_net(ipt, input_dim):\n",
    "\n",
    "    # 以数据的IDs作为输入\n",
    "\n",
    "    emb = fluid.layers.embedding(input=ipt, size=[input_dim, 128], is_sparse=True)\n",
    "\n",
    "    # 第一个全连接层\n",
    "\n",
    "    fc1 = fluid.layers.fc(input=emb, size=128)\n",
    "\n",
    "    # 进行一个长短期记忆操作\n",
    "\n",
    "    lstm1, _ = fluid.layers.dynamic_lstm(input=fc1, #返回：隐藏状态（hidden state），LSTM的神经元状态\n",
    "\n",
    "                                         size=128) #size=4*hidden_size\n",
    "\n",
    "    # 第一个最大序列池操作\n",
    "\n",
    "    fc2 = fluid.layers.sequence_pool(input=fc1, pool_type='max')\n",
    "\n",
    "    # 第二个最大序列池操作\n",
    "\n",
    "    lstm2 = fluid.layers.sequence_pool(input=lstm1, pool_type='max')\n",
    "\n",
    "    # 以softmax作为全连接的输出层，大小为2,也就是正负面\n",
    "\n",
    "    out = fluid.layers.fc(input=[fc2, lstm2], size=2, act='softmax')\n",
    "\n",
    "    return out"
   ]
  },
  {
   "cell_type": "code",
   "execution_count": 8,
   "metadata": {
    "execution": {
     "iopub.execute_input": "2022-03-06T15:30:01.206117Z",
     "iopub.status.busy": "2022-03-06T15:30:01.205702Z",
     "iopub.status.idle": "2022-03-06T15:30:01.210866Z",
     "shell.execute_reply": "2022-03-06T15:30:01.210283Z",
     "shell.execute_reply.started": "2022-03-06T15:30:01.206086Z"
    },
    "scrolled": true
   },
   "outputs": [],
   "source": [
    "# 定义输入数据， lod_level不为0指定输入数据为序列数据\n",
    "paddle.enable_static()\n",
    "words = fluid.data(name='words', shape=[None,1], dtype='int64', lod_level=1)\n",
    "label = fluid.data(name='label', shape=[None,1], dtype='int64')"
   ]
  },
  {
   "cell_type": "code",
   "execution_count": 9,
   "metadata": {
    "execution": {
     "iopub.execute_input": "2022-03-06T15:30:03.551162Z",
     "iopub.status.busy": "2022-03-06T15:30:03.550574Z",
     "iopub.status.idle": "2022-03-06T15:30:03.589223Z",
     "shell.execute_reply": "2022-03-06T15:30:03.588508Z",
     "shell.execute_reply.started": "2022-03-06T15:30:03.551123Z"
    },
    "scrolled": true
   },
   "outputs": [],
   "source": [
    "# 获取数据字典长度\n",
    "dict_dim = get_dict_len(dict_path)\n",
    "# 获取分类器\n",
    "model = lstm_net(words, dict_dim)   # words作为占位符"
   ]
  },
  {
   "cell_type": "code",
   "execution_count": 10,
   "metadata": {
    "execution": {
     "iopub.execute_input": "2022-03-06T15:30:17.578751Z",
     "iopub.status.busy": "2022-03-06T15:30:17.577742Z",
     "iopub.status.idle": "2022-03-06T15:30:17.589742Z",
     "shell.execute_reply": "2022-03-06T15:30:17.589202Z",
     "shell.execute_reply.started": "2022-03-06T15:30:17.578716Z"
    },
    "scrolled": true
   },
   "outputs": [],
   "source": [
    "# 获取损失函数和准确率\n",
    "cost = fluid.layers.cross_entropy(input=model, label=label)\n",
    "avg_cost = fluid.layers.mean(cost)\n",
    "acc = fluid.layers.accuracy(input=model, label=label)\n",
    "# 获取预测程序\n",
    "test_program = fluid.default_main_program().clone(for_test=True)"
   ]
  },
  {
   "cell_type": "code",
   "execution_count": 11,
   "metadata": {
    "execution": {
     "iopub.execute_input": "2022-03-06T15:30:21.318786Z",
     "iopub.status.busy": "2022-03-06T15:30:21.318133Z",
     "iopub.status.idle": "2022-03-06T15:30:21.339592Z",
     "shell.execute_reply": "2022-03-06T15:30:21.338853Z",
     "shell.execute_reply.started": "2022-03-06T15:30:21.318751Z"
    },
    "scrolled": true
   },
   "outputs": [],
   "source": [
    "# 定义优化方法\n",
    "optimizer = fluid.optimizer.AdagradOptimizer(learning_rate=0.001)\n",
    "opt = optimizer.minimize(avg_cost)"
   ]
  },
  {
   "cell_type": "markdown",
   "metadata": {},
   "source": [
    "## 四、模型训练"
   ]
  },
  {
   "cell_type": "code",
   "execution_count": 12,
   "metadata": {
    "execution": {
     "iopub.execute_input": "2022-03-06T15:30:25.511366Z",
     "iopub.status.busy": "2022-03-06T15:30:25.510811Z",
     "iopub.status.idle": "2022-03-06T15:30:26.365596Z",
     "shell.execute_reply": "2022-03-06T15:30:26.364746Z",
     "shell.execute_reply.started": "2022-03-06T15:30:25.511328Z"
    },
    "scrolled": true
   },
   "outputs": [],
   "source": [
    "# use_cuda为False,表示运算场所为CPU;use_cuda为True,表示运算场所为GPU \n",
    "use_cuda = False \n",
    "place = fluid.CUDAPlace(0) if use_cuda else fluid.CPUPlace()\n",
    "exe = fluid.Executor(place)     # 创建执行引擎\n",
    "# 进行参数初始化\n",
    "exe.run(fluid.default_startup_program())\n",
    "\n",
    "# 定义数据映射器（生成一种特殊数据结构，以便输入到Executor中）\n",
    "feeder = fluid.DataFeeder(place=place, feed_list=[words, label])"
   ]
  },
  {
   "cell_type": "code",
   "execution_count": 13,
   "metadata": {
    "execution": {
     "iopub.execute_input": "2022-03-06T15:30:29.224358Z",
     "iopub.status.busy": "2022-03-06T15:30:29.223357Z",
     "iopub.status.idle": "2022-03-06T15:30:29.229620Z",
     "shell.execute_reply": "2022-03-06T15:30:29.229082Z",
     "shell.execute_reply.started": "2022-03-06T15:30:29.224321Z"
    },
    "scrolled": true
   },
   "outputs": [],
   "source": [
    "# 记录训练及验证时每回合的损失函数及准确率\n",
    "all_train_iter=0\n",
    "all_train_iters=[]\n",
    "all_train_costs=[]\n",
    "all_train_accs=[]\n",
    "\n",
    "all_eval_iter=0\n",
    "all_eval_iters=[]\n",
    "all_eval_costs=[]\n",
    "all_eval_accs=[]\n",
    "\n",
    "# 训练及验证过程可视化\n",
    "def draw_process(title,iters,costs,accs,label_cost,lable_acc):\n",
    "    plt.title(title, fontsize=24)\n",
    "    plt.xlabel(\"iter\", fontsize=20)\n",
    "    plt.ylabel(\"cost/acc\", fontsize=20)\n",
    "    plt.plot(iters, costs,color='red',label=label_cost) \n",
    "    plt.plot(iters, accs,color='green',label=lable_acc) \n",
    "    plt.legend()\n",
    "    plt.grid()\n",
    "    plt.show()"
   ]
  },
  {
   "cell_type": "code",
   "execution_count": 14,
   "metadata": {
    "execution": {
     "iopub.execute_input": "2022-03-06T15:30:35.862481Z",
     "iopub.status.busy": "2022-03-06T15:30:35.861488Z",
     "iopub.status.idle": "2022-03-06T15:33:06.001045Z",
     "shell.execute_reply": "2022-03-06T15:33:06.000235Z",
     "shell.execute_reply.started": "2022-03-06T15:30:35.862445Z"
    },
    "scrolled": true
   },
   "outputs": [
    {
     "name": "stdout",
     "output_type": "stream",
     "text": [
      "Pass:0, Batch:0, Cost:0.68558, Acc:0.56250\n",
      "Test:0, Cost:0.65260, ACC:0.60532\n",
      "Pass:1, Batch:0, Cost:0.63717, Acc:0.65625\n",
      "Test:1, Cost:0.63481, ACC:0.72917\n",
      "Pass:2, Batch:0, Cost:0.61402, Acc:0.75781\n",
      "Test:2, Cost:0.61980, ACC:0.76780\n",
      "Pass:3, Batch:0, Cost:0.59511, Acc:0.82031\n",
      "Test:3, Cost:0.60889, ACC:0.77619\n",
      "Pass:4, Batch:0, Cost:0.57802, Acc:0.86719\n",
      "Test:4, Cost:0.59783, ACC:0.79123\n",
      "Pass:5, Batch:0, Cost:0.56541, Acc:0.88281\n",
      "Test:5, Cost:0.58893, ACC:0.79051\n",
      "Pass:6, Batch:0, Cost:0.55022, Acc:0.88281\n",
      "Test:6, Cost:0.58062, ACC:0.78776\n",
      "Pass:7, Batch:0, Cost:0.53815, Acc:0.89062\n",
      "Test:7, Cost:0.57085, ACC:0.79239\n",
      "Pass:8, Batch:0, Cost:0.52789, Acc:0.89844\n",
      "Test:8, Cost:0.56312, ACC:0.80093\n",
      "Pass:9, Batch:0, Cost:0.51524, Acc:0.89844\n",
      "Test:9, Cost:0.55239, ACC:0.80686\n",
      "Pass:10, Batch:0, Cost:0.50512, Acc:0.91406\n",
      "Test:10, Cost:0.54870, ACC:0.79890\n",
      "Pass:11, Batch:0, Cost:0.49501, Acc:0.91406\n",
      "Test:11, Cost:0.54195, ACC:0.79760\n",
      "Pass:12, Batch:0, Cost:0.48594, Acc:0.91406\n",
      "Test:12, Cost:0.53535, ACC:0.79760\n",
      "Pass:13, Batch:0, Cost:0.47867, Acc:0.90625\n",
      "Test:13, Cost:0.52938, ACC:0.79890\n",
      "Pass:14, Batch:0, Cost:0.46994, Acc:0.89844\n",
      "Test:14, Cost:0.52037, ACC:0.80020\n",
      "Pass:15, Batch:0, Cost:0.46011, Acc:0.91406\n",
      "Test:15, Cost:0.51824, ACC:0.79688\n",
      "Pass:16, Batch:0, Cost:0.45487, Acc:0.90625\n",
      "Test:16, Cost:0.51177, ACC:0.80802\n",
      "Pass:17, Batch:0, Cost:0.44434, Acc:0.91406\n",
      "Test:17, Cost:0.50734, ACC:0.80932\n",
      "Pass:18, Batch:0, Cost:0.43774, Acc:0.92188\n",
      "Test:18, Cost:0.50204, ACC:0.80932\n",
      "Pass:19, Batch:0, Cost:0.43332, Acc:0.91406\n",
      "Test:19, Cost:0.49746, ACC:0.81192\n",
      "Pass:20, Batch:0, Cost:0.42346, Acc:0.92188\n",
      "Test:20, Cost:0.49420, ACC:0.80990\n",
      "Pass:21, Batch:0, Cost:0.41968, Acc:0.91406\n",
      "Test:21, Cost:0.48833, ACC:0.81322\n",
      "Pass:22, Batch:0, Cost:0.41068, Acc:0.92188\n",
      "Test:22, Cost:0.48416, ACC:0.81713\n",
      "Pass:23, Batch:0, Cost:0.40581, Acc:0.91406\n",
      "Test:23, Cost:0.47979, ACC:0.81843\n",
      "Pass:24, Batch:0, Cost:0.39854, Acc:0.92188\n",
      "Test:24, Cost:0.47595, ACC:0.81713\n",
      "Pass:25, Batch:0, Cost:0.39406, Acc:0.91406\n",
      "Test:25, Cost:0.47135, ACC:0.82176\n",
      "Pass:26, Batch:0, Cost:0.38718, Acc:0.92188\n",
      "Test:26, Cost:0.46883, ACC:0.81973\n",
      "Pass:27, Batch:0, Cost:0.38164, Acc:0.92188\n",
      "Test:27, Cost:0.46339, ACC:0.82306\n",
      "Pass:28, Batch:0, Cost:0.37629, Acc:0.92969\n",
      "Test:28, Cost:0.45962, ACC:0.82306\n",
      "Pass:29, Batch:0, Cost:0.37107, Acc:0.93750\n",
      "Test:29, Cost:0.45777, ACC:0.81843\n",
      "Pass:30, Batch:0, Cost:0.36505, Acc:0.93750\n",
      "Test:30, Cost:0.45401, ACC:0.81713\n",
      "Pass:31, Batch:0, Cost:0.36114, Acc:0.93750\n",
      "Test:31, Cost:0.45033, ACC:0.81843\n",
      "Pass:32, Batch:0, Cost:0.35964, Acc:0.92969\n",
      "Test:32, Cost:0.44658, ACC:0.81843\n",
      "Pass:33, Batch:0, Cost:0.35432, Acc:0.92969\n",
      "Test:33, Cost:0.44283, ACC:0.81973\n",
      "Pass:34, Batch:0, Cost:0.34732, Acc:0.93750\n",
      "Test:34, Cost:0.44111, ACC:0.82104\n",
      "Pass:35, Batch:0, Cost:0.34564, Acc:0.93750\n",
      "Test:35, Cost:0.43785, ACC:0.82567\n",
      "Pass:36, Batch:0, Cost:0.33852, Acc:0.94531\n",
      "Test:36, Cost:0.43504, ACC:0.82567\n",
      "Pass:37, Batch:0, Cost:0.33670, Acc:0.93750\n",
      "Test:37, Cost:0.43130, ACC:0.82567\n",
      "Pass:38, Batch:0, Cost:0.33019, Acc:0.94531\n",
      "Test:38, Cost:0.42736, ACC:0.82697\n",
      "Pass:39, Batch:0, Cost:0.32613, Acc:0.94531\n",
      "Test:39, Cost:0.42423, ACC:0.82697\n",
      "Pass:40, Batch:0, Cost:0.32462, Acc:0.94531\n",
      "Test:40, Cost:0.42347, ACC:0.82957\n",
      "Pass:41, Batch:0, Cost:0.31849, Acc:0.95312\n",
      "Test:41, Cost:0.42124, ACC:0.82957\n",
      "Pass:42, Batch:0, Cost:0.31992, Acc:0.94531\n",
      "Test:42, Cost:0.41934, ACC:0.82957\n",
      "Pass:43, Batch:0, Cost:0.31115, Acc:0.95312\n",
      "Test:43, Cost:0.41453, ACC:0.82957\n",
      "Pass:44, Batch:0, Cost:0.31097, Acc:0.94531\n",
      "Test:44, Cost:0.41620, ACC:0.82494\n",
      "Pass:45, Batch:0, Cost:0.30667, Acc:0.94531\n",
      "Test:45, Cost:0.41188, ACC:0.82494\n",
      "Pass:46, Batch:0, Cost:0.30366, Acc:0.94531\n",
      "Test:46, Cost:0.40955, ACC:0.82364\n",
      "Pass:47, Batch:0, Cost:0.29829, Acc:0.95312\n",
      "Test:47, Cost:0.40632, ACC:0.82234\n",
      "Pass:48, Batch:0, Cost:0.29388, Acc:0.96094\n",
      "Test:48, Cost:0.40567, ACC:0.82234\n",
      "Pass:49, Batch:0, Cost:0.29162, Acc:0.95312\n",
      "Test:49, Cost:0.40312, ACC:0.82827\n",
      "训练模型保存完成！\n"
     ]
    },
    {
     "name": "stderr",
     "output_type": "stream",
     "text": [
      "/opt/conda/envs/python35-paddle120-env/lib/python3.7/site-packages/matplotlib/cbook/__init__.py:2349: DeprecationWarning: Using or importing the ABCs from 'collections' instead of from 'collections.abc' is deprecated, and in 3.8 it will stop working\n",
      "  if isinstance(obj, collections.Iterator):\n",
      "/opt/conda/envs/python35-paddle120-env/lib/python3.7/site-packages/matplotlib/cbook/__init__.py:2366: DeprecationWarning: Using or importing the ABCs from 'collections' instead of from 'collections.abc' is deprecated, and in 3.8 it will stop working\n",
      "  return list(data) if isinstance(data, collections.MappingView) else data\n"
     ]
    },
    {
     "data": {
      "image/png": "[encoded data removed]",
      "text/plain": [
       "<Figure size 432x288 with 1 Axes>"
      ]
     },
     "metadata": {
      "needs_background": "light"
     },
     "output_type": "display_data"
    },
    {
     "data": {
      "image/png": "[encoded data removed]",
      "text/plain": [
       "<Figure size 432x288 with 1 Axes>"
      ]
     },
     "metadata": {
      "needs_background": "light"
     },
     "output_type": "display_data"
    }
   ],
   "source": [
    "EPOCH_NUM=50                                        #训练轮数\n",
    "model_save_dir = '/home/aistudio/work/infer_model/' #模型保存路径\n",
    "# 开始训练\n",
    "for pass_id in range(EPOCH_NUM):\n",
    "    # 进行训练\n",
    "    for batch_id, data in enumerate(train_reader()):\n",
    "        train_cost, train_acc = exe.run(program=fluid.default_main_program(),\n",
    "                             feed=feeder.feed(data),\n",
    "                             fetch_list=[avg_cost, acc])\n",
    "        all_train_iter=all_train_iter+BATCH_SIZE\n",
    "        all_train_iters.append(all_train_iter)\n",
    "        all_train_costs.append(train_cost[0])\n",
    "        all_train_accs.append(train_acc[0])\n",
    "\n",
    "        if batch_id % 100 == 0:\n",
    "            print('Pass:%d, Batch:%d, Cost:%0.5f, Acc:%0.5f' % (pass_id, batch_id, train_cost[0], train_acc[0]))\n",
    "    # 进行验证\n",
    "    eval_costs = []\n",
    "    eval_accs = []\n",
    "    for batch_id, data in enumerate(eval_reader()):\n",
    "        eval_cost, eval_acc = exe.run(program=test_program,     # fluid.default_main_program().clone(for_test=True)\n",
    "                                              feed=feeder.feed(data),\n",
    "                                              fetch_list=[avg_cost, acc])\n",
    "        eval_costs.append(eval_cost[0])\n",
    "        eval_accs.append(eval_acc[0])\n",
    "        \n",
    "        all_eval_iter=all_eval_iter+BATCH_SIZE\n",
    "        all_eval_iters.append(all_eval_iter)\n",
    "        all_eval_costs.append(eval_cost[0])                                       \n",
    "        all_eval_accs.append(eval_acc[0])      \n",
    "    # 计算平均预测损失在和准确率\n",
    "    eval_cost = (sum(eval_costs) / len(eval_costs))\n",
    "    eval_acc = (sum(eval_accs) / len(eval_accs))\n",
    "    print('Test:%d, Cost:%0.5f, ACC:%0.5f' % (pass_id, eval_cost, eval_acc))\n",
    "\n",
    "# 保存模型\n",
    "if not os.path.exists(model_save_dir): \n",
    "    os.makedirs(model_save_dir) \n",
    "fluid.io.save_inference_model(model_save_dir, \n",
    "                            feeded_var_names=[words.name], \n",
    "                            target_vars=[model], \n",
    "                            executor=exe)\n",
    "print('训练模型保存完成！') \n",
    "\n",
    "draw_process(\"train\",all_train_iters,all_train_costs,all_train_accs,\"trainning cost\",\"trainning acc\")\n",
    "draw_process(\"eval\",all_eval_iters,all_eval_costs,all_eval_accs,\"evaling cost\",\"evaling acc\")"
   ]
  },
  {
   "cell_type": "markdown",
   "metadata": {},
   "source": [
    "## 五、模型评估"
   ]
  },
  {
   "cell_type": "code",
   "execution_count": 29,
   "metadata": {
    "execution": {
     "iopub.execute_input": "2022-03-06T16:08:14.722834Z",
     "iopub.status.busy": "2022-03-06T16:08:14.721826Z",
     "iopub.status.idle": "2022-03-06T16:08:15.177907Z",
     "shell.execute_reply": "2022-03-06T16:08:15.177274Z",
     "shell.execute_reply.started": "2022-03-06T16:08:14.722802Z"
    },
    "scrolled": true
   },
   "outputs": [
    {
     "name": "stdout",
     "output_type": "stream",
     "text": [
      "预测结果标签为：1， 分类为：谣言， 概率为：0.882589， 真实结果为：谣言\n",
      "预测结果标签为：1， 分类为：谣言， 概率为：0.889681， 真实结果为：谣言\n",
      "预测结果标签为：0， 分类为：非谣言， 概率为：0.577464， 真实结果为：谣言\n",
      "预测结果标签为：1， 分类为：谣言， 概率为：0.686090， 真实结果为：谣言\n",
      "预测结果标签为：1， 分类为：谣言， 概率为：0.673478， 真实结果为：谣言\n",
      "预测准确率为：0.800000\n"
     ]
    }
   ],
   "source": [
    "# 创建执行器\n",
    "place = fluid.CPUPlace()\n",
    "infer_exe = fluid.Executor(place)\n",
    "infer_exe.run(fluid.default_startup_program())\n",
    "\n",
    "save_path = '/home/aistudio/work/infer_model/'\n",
    "\n",
    "# 从模型中获取预测程序、输入数据名称列表、分类器\n",
    "[infer_program, feeded_var_names, target_var] = fluid.io.load_inference_model(dirname=save_path, executor=infer_exe)\n",
    "\n",
    "\n",
    "# 获取数据\n",
    "def get_data(sentence):\n",
    "    # 读取数据字典\n",
    "    with open('/home/aistudio/work/dict.txt', 'r', encoding='utf-8') as f_data:\n",
    "        dict_txt = eval(f_data.readlines()[0])\n",
    "    dict_txt = dict(dict_txt)\n",
    "    # 把字符串数据转换成列表数据\n",
    "    keys = dict_txt.keys()\n",
    "    data = []\n",
    "    for s in sentence:\n",
    "        # 判断是否存在未知字符\n",
    "        if not s in keys:\n",
    "            s = '<unk>'\n",
    "        data.append(int(dict_txt[s]))\n",
    "    return data\n",
    "\n",
    "# 获取测试数据\n",
    "test_path = 'work/Rumor_Dataset-master/Chinese_Rumor_Dataset-master/rumors_v170613.json'\n",
    "file_rumors = open(test_path , 'r', encoding=\"utf-8\") \n",
    "rumor_content = file_rumors.readlines()\n",
    "all_samples = []\n",
    "for line in rumor_content:\n",
    "    dic = json.loads(line)\n",
    "    all_samples.append(dic)\n",
    "data = []\n",
    "result_data = []\n",
    "test_num = 5\n",
    "for i in range(test_num):\n",
    "    rumorText = all_samples_list[i]['rumorText']\n",
    "    data.append(get_data(rumorText))\n",
    "    if '不实' in all_samples_list[i]['result']:\n",
    "        result_data.append('谣言')\n",
    "    else:\n",
    "        result_data.append('非谣言')\n",
    "\n",
    "# 获取每句话的单词数量\n",
    "base_shape = [[len(c) for c in data]]\n",
    "\n",
    "# 生成预测数据\n",
    "tensor_words = fluid.create_lod_tensor(data, base_shape, place)\n",
    "\n",
    "# 执行预测\n",
    "result = exe.run(program=infer_program,\n",
    "                 feed={feeded_var_names[0]: tensor_words},\n",
    "                 fetch_list=target_var)\n",
    "\n",
    "# 分类名称\n",
    "names = ['非谣言', '谣言']\n",
    "\n",
    "# 进行预测并评价预测结果\n",
    "right_num = 0\n",
    "for i in range(len(data)):\n",
    "    lab = np.argsort(result)[0][i][-1]\n",
    "    print('预测结果标签为：%d， 分类为：%s， 概率为：%f， 真实结果为：%s' % (lab, names[lab], result[0][i][lab], result_data[i]))\n",
    "    if names[lab] == result_data[i]:\n",
    "        right_num += 1\n",
    "acc_test = right_num / test_num\n",
    "print('预测准确率为：%f' %(acc_test))"
   ]
  },
  {
   "cell_type": "markdown",
   "metadata": {},
   "source": [
    "## 六、总结与升华"
   ]
  },
  {
   "cell_type": "markdown",
   "metadata": {},
   "source": [
    "由于之前没有做过NLP相关工作，为按时提交作业，本项目内容部分参考了之前的精品项目https://aistudio.baidu.com/aistudio/projectdetail/283337?channelType=0&channel=0\n",
    "\n",
    "目前的版本预测准确度仍不算很高，除可以增加训练次数来提升模型效果外，还可以利用jieba等工具实现\n",
    "精准分词来代替当前的以单个字符为单元的划分方式，并可对模型结构和参数进行优化和调试。接下来我将利用空余时间继续学习和实践，以求进一步完善此项目。"
   ]
  },
  {
   "cell_type": "markdown",
   "metadata": {},
   "source": [
    "## 七、个人总结"
   ]
  },
  {
   "cell_type": "markdown",
   "metadata": {},
   "source": [
    "项目作者：刘国栋\n",
    "\n",
    "兴趣方向：数据挖掘\n",
    "\n",
    "职业：电子工程师\n",
    "\n",
    "个人博客：https://www.cnblogs.com/liugd-2020/p/\n",
    "\n",
    "github: https://github.com/mofalong2000"
   ]
  }
 ],
 "metadata": {
  "kernelspec": {
   "display_name": "Python 3",
   "language": "python",
   "name": "py35-paddle1.2.0"
  },
  "language_info": {
   "codemirror_mode": {
    "name": "ipython",
    "version": 3
   },
   "file_extension": ".py",
   "mimetype": "text/x-python",
   "name": "python",
   "nbconvert_exporter": "python",
   "pygments_lexer": "ipython3",
   "version": "3.7.4"
  }
 },
 "nbformat": 4,
 "nbformat_minor": 4
}
